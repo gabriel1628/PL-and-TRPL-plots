{
 "cells": [
  {
   "cell_type": "code",
   "execution_count": 1,
   "metadata": {},
   "outputs": [
    {
     "name": "stdout",
     "output_type": "stream",
     "text": [
      "Using matplotlib backend: Qt5Agg\n"
     ]
    }
   ],
   "source": [
    "import numpy as np\n",
    "\n",
    "#import scipy.signal\n",
    "#from scipy.integrate import odeint\n",
    "\n",
    "import matplotlib as mp\n",
    "#import matplotlib.ticker\n",
    "from matplotlib.widgets import Cursor\n",
    "#default_colors = mp.rcParams['axes.prop_cycle']\n",
    "\n",
    "import matplotlib.pyplot as plt\n",
    "plt.rcParams['figure.figsize'] = (8, 6)\n",
    "plt.rcParams.update({\n",
    "    'font.family' : 'sans-serif',\n",
    "    #'mathtext.default' : 'rm',\n",
    "    'mathtext.fontset': 'cm'\n",
    "})\n",
    "#mp.rcParams['text.usetex'] = True\n",
    "\n",
    "import pandas as pd\n",
    "\n",
    "#from lmfit import minimize, Parameters, Parameter, report_fit, fit_report\n",
    "#from lmfit.model import Model, save_model, load_model, ModelResult\n",
    "\n",
    "import os\n",
    "\n",
    "#import pickle\n",
    "\n",
    "#from mymodules.Excitation import excitation\n",
    "#from mymodules.data_filtering import filt\n",
    "\n",
    "%matplotlib qt5\n",
    "%matplotlib"
   ]
  },
  {
   "cell_type": "markdown",
   "metadata": {},
   "source": [
    "# Plot of the PL data in a file"
   ]
  },
  {
   "cell_type": "markdown",
   "metadata": {},
   "source": [
    "## Plot of the PL as a function of wavelength"
   ]
  },
  {
   "cell_type": "code",
   "execution_count": 2,
   "metadata": {},
   "outputs": [],
   "source": [
    "# Importing the data using pandas\n",
    "path_pl = r\"example_PL_plot.txt\" #  r for those using Windows and \\ in the path\n",
    "data = pd.read_csv(path_pl, sep=\",\", header=None, index_col=False)\n",
    "data.columns=[\"Wavelength\", \"Intensity\"]\n",
    "wavelen = data[\"Wavelength\"]\n",
    "pl = data[\"Intensity\"]\n",
    "\n",
    "# The signal will be averaged between lambda1 and lambda2 to calculate the background\n",
    "lambda1 = 400\n",
    "lambda2 = 450\n",
    "lim1 = 1\n",
    "while wavelen[lim1] < lambda1:\n",
    "    lim1 += 1\n",
    "lim2 = lim1\n",
    "while wavelen[lim2] < lambda2:\n",
    "    lim2 += 1\n",
    "pl = pl - pl[lim1:lim2].sum()/(lim2-lim1)\n",
    "pl_norm = pl/pl.max()\n",
    "\n",
    "plt.close()\n",
    "fig, ax = plt.subplots()\n",
    "ax.plot(wavelen, pl_norm)\n",
    "\n",
    "# Ticks\" parameters\n",
    "xmin = 430\n",
    "xmax = 620 #for xlim\n",
    "xstep_maj = 50 #for xticks\n",
    "xstep_min = 10\n",
    "majorLocator = mp.ticker.MultipleLocator(xstep_maj)\n",
    "minorLocator = mp.ticker.MultipleLocator(xstep_min)\n",
    "#ymin = 0\n",
    "#ymax = 1.15\n",
    "\n",
    "# Axes\" limits\n",
    "ax.set_xlim(xmin, xmax)\n",
    "#ax.set_ylim(ymin, ymax)\n",
    "\n",
    "# Titles\n",
    "ax.set_title(r\"PL($\\lambda$)\", fontsize=20, verticalalignment=\"bottom\")\n",
    "ax.set_xlabel(\"wavelength (nm)\", fontsize=15)\n",
    "ax.set_ylabel(\"PL (normalized)\", fontsize=15, verticalalignment=\"bottom\")\n",
    "\n",
    "# Ticks\n",
    "xticks = np.arange(xmin, xmax, xstep_min)\n",
    "ax.set_xticks(xticks, minor=True)\n",
    "ax.tick_params(right=False, which=\"both\", labelsize=14)\n",
    "ax.tick_params(which=\"major\", width=.90, length=5)\n",
    "ax.tick_params(which=\"minor\", width=.75, length=3.5)\n",
    "ax.xaxis.set_major_locator(majorLocator)\n",
    "ax.xaxis.set_minor_locator(minorLocator)\n",
    "\n",
    "# Legend\n",
    "labels=[\"data\"]\n",
    "ax.legend(labels, fontsize=18)\n",
    "\n",
    "fig.tight_layout(rect=(0, 0, 0.95, 0.95))\n",
    "\n",
    "plt.show()"
   ]
  },
  {
   "cell_type": "markdown",
   "metadata": {},
   "source": [
    "## Plot of the PL as a function of energy"
   ]
  },
  {
   "cell_type": "code",
   "execution_count": 3,
   "metadata": {},
   "outputs": [],
   "source": [
    "# Importing the data using numpy\n",
    "path_pl = r\"example_PL_plot.txt\" #  r for those using Windows and \\ in the path\n",
    "wavelen, pl = np.loadtxt(path_pl, delimiter=\",\").T\n",
    "\n",
    "h = 6.626e-34\n",
    "c = 3e8\n",
    "e = 1.6e-19\n",
    "E = (h*c/(wavelen*1e-9))/e\n",
    "#E = E[::-1] #  for the elements of E to be in the ascending order\n",
    "#pl = pl[::-1]\n",
    "\n",
    "# The signal will be averaged between E1 and E2 to calculate the background\n",
    "E1 = 1.8\n",
    "E2 = 2\n",
    "lim2 = 1\n",
    "while E[lim2] > E2: #  > because the elements of E are in the descending order\n",
    "    lim2 += 1\n",
    "lim1 = lim2\n",
    "while E[lim1] > E1:\n",
    "    lim1 += 1\n",
    "pl = pl - pl[lim2:lim1].sum()/(lim1-lim2)\n",
    "pl_norm = pl/pl.max()\n",
    "\n",
    "plt.close()\n",
    "fig, ax = plt.subplots()\n",
    "ax.plot(E, pl_norm)\n",
    "\n",
    "# Ticks\" parameters\n",
    "xmin = 2\n",
    "xmax = 2.7 #for xlim\n",
    "xstep_maj = .1 #for xticks\n",
    "xstep_min = .05\n",
    "majorLocator = mp.ticker.MultipleLocator(xstep_maj)\n",
    "minorLocator = mp.ticker.MultipleLocator(xstep_min)\n",
    "#ymin = 0\n",
    "#ymax = 1.15\n",
    "\n",
    "# Fonts\" size\n",
    "titlesize = 24\n",
    "labelsize = 18\n",
    "ticksize = 14\n",
    "legendsize = 20\n",
    "\n",
    "# Axes\" limits\n",
    "ax.set_xlim(xmin, xmax)\n",
    "#ax.set_ylim(ymin, ymax)\n",
    "\n",
    "# Titles\n",
    "ax.set_title(r\"PL(E)\", fontsize=titlesize, verticalalignment=\"bottom\")\n",
    "ax.set_xlabel(\"Energy (eV)\", fontsize=labelsize)\n",
    "ax.set_ylabel(\"PL (normalized)\", fontsize=labelsize, verticalalignment=\"bottom\")\n",
    "\n",
    "# Ticks\n",
    "xticks = np.arange(xmin, xmax, xstep_min)\n",
    "ax.set_xticks(xticks, minor=True)\n",
    "ax.tick_params(right=False, which=\"both\", labelsize=ticksize)\n",
    "ax.tick_params(which=\"major\", width=.90, length=5)\n",
    "ax.tick_params(which=\"minor\", width=.75, length=3.5)\n",
    "ax.xaxis.set_major_locator(majorLocator)\n",
    "ax.xaxis.set_minor_locator(minorLocator)\n",
    "\n",
    "# Legend\n",
    "labels=[\"data\"]\n",
    "ax.legend(labels, fontsize=legendsize)\n",
    "\n",
    "fig.tight_layout(rect=(0, 0, 0.95, 0.95))\n",
    "\n",
    "plt.show()"
   ]
  },
  {
   "cell_type": "markdown",
   "metadata": {},
   "source": [
    "## Plot of the PL as a function of wavelength and energy"
   ]
  },
  {
   "cell_type": "code",
   "execution_count": 8,
   "metadata": {},
   "outputs": [],
   "source": [
    "def wavelen2E(wavelen):\n",
    "    return ((h*c) / (wavelen*1e-9)) / e # with wavelen in nm\n",
    "\n",
    "def E2wavelen(E):\n",
    "    w = E.copy()\n",
    "    near_zero = np.isclose(w, 0)\n",
    "    w[near_zero] = np.inf\n",
    "    w[~near_zero] = ((h*c) / (E[~near_zero]*e)) * 1e9 # in nm\n",
    "    return w\n",
    "\n",
    "plt.close()\n",
    "fig, ax_w = plt.subplots()\n",
    "ax_w.plot(wavelen, pl_norm)\n",
    "\n",
    "ax_E = ax_w.secondary_xaxis('top', functions=(wavelen2E, E2wavelen))\n",
    "#ax_E.set_xlabel('Energy (eV)')\n",
    "\n",
    "plt.tight_layout(rect=(0, 0, 0.98, 0.98))\n",
    "plt.show()"
   ]
  },
  {
   "cell_type": "markdown",
   "metadata": {
    "collapsed": true
   },
   "source": [
    "# Plot all files in a directory"
   ]
  },
  {
   "cell_type": "markdown",
   "metadata": {},
   "source": [
    "## Plot the spectra as a function of wavelength"
   ]
  },
  {
   "cell_type": "code",
   "execution_count": 65,
   "metadata": {
    "scrolled": true
   },
   "outputs": [
    {
     "name": "stdout",
     "output_type": "stream",
     "text": [
      "1 : PL_data_1.txt, peak position : 784.3 nm\n",
      "2 : PL_data_2.txt, peak position : 779.8 nm\n",
      "3 : PL_data_3.txt, peak position : 641.7 nm\n",
      "4 : PL_data_6.txt, peak position : 759.3 nm\n",
      "5 : PL_data_4.txt, peak position : 713.8 nm\n",
      "6 : PL_data_5.txt, peak position : 726.2 nm\n"
     ]
    }
   ],
   "source": [
    "plt.close(\"all\")\n",
    "fig, ax = plt.subplots()\n",
    "axs = []\n",
    "\n",
    "# The signal will be averaged between lambda1 and lambda2 to calculate the background\n",
    "lambda1 = 880\n",
    "lambda2 = 960\n",
    "bg_correction = True #  for correcting the background or not\n",
    "\n",
    "# Data directory's path\n",
    "dir_path = r\"pl files\"\n",
    "# Saving directory's path\n",
    "save_loc = r\"figures\"\n",
    "#save_figs = input(\"save the plots? y/n (default is no)\")\n",
    "save_figs = \"no\"\n",
    "\n",
    "i = 1\n",
    "for filename in os.listdir(dir_path):\n",
    "    if filename.split(\".\")[0] == filename: # if it's a directory and not a file\n",
    "        continue\n",
    "    if filename[0] == \".\": # if it's a cache file\n",
    "        continue\n",
    "        \n",
    "    filepath = dir_path + r\"/\" + filename\n",
    "    data = pd.read_csv(filepath, sep=r\"\\t\", header=None, index_col=False, names=[\"Wavelength\", \"Intensity\"],\n",
    "                      engine=\"python\")\n",
    "    wavelen = data[\"Wavelength\"]\n",
    "    pl = data[\"Intensity\"]\n",
    "    \n",
    "    if bg_correction == True:\n",
    "        lim1 = 1\n",
    "        while wavelen[lim1] < lambda1:\n",
    "            lim1 += 1\n",
    "        lim2 = lim1\n",
    "        while wavelen[lim2] < lambda2:\n",
    "            lim2 += 1\n",
    "        pl = pl - pl[lim1:lim2].sum()/(lim2-lim1)\n",
    "    pl_norm = pl/pl.max()\n",
    "    \n",
    "    #fig, ax = plt.subplots(figsize=(8,6))\n",
    "    #axs.append(ax)\n",
    "    ax.plot(wavelen, pl_norm, label=filename.split(\".\")[0])\n",
    "    fig.tight_layout(rect=(0, 0, 0.95, 0.95))\n",
    "    ax.legend()\n",
    "    \n",
    "    if save_figs.lower() == \"yes\":\n",
    "        os.chdir(save_loc)\n",
    "        fig.savefig(filename.split(\".\")[0] + \".png\")\n",
    "        plt.close()\n",
    "        os.chdir(path_dir)\n",
    "    \n",
    "    k2 = 0\n",
    "    while pl[k2] != pl.max():\n",
    "        k2 = k2+1\n",
    "        \n",
    "    print(i, \" : \", filename, \", \", \"peak position : \", round(wavelen[k2], 1), \" nm\", sep=\"\")\n",
    "    \n",
    "    i = i + 1\n",
    "\n",
    "plt.show()"
   ]
  },
  {
   "cell_type": "markdown",
   "metadata": {},
   "source": [
    "## Plot the spectra as a function of Energy"
   ]
  },
  {
   "cell_type": "code",
   "execution_count": 64,
   "metadata": {
    "scrolled": true
   },
   "outputs": [
    {
     "name": "stdout",
     "output_type": "stream",
     "text": [
      "1 : PL_data_1.txt, peak position : 1.58 eV\n",
      "2 : PL_data_2.txt, peak position : 1.59 eV\n",
      "3 : PL_data_3.txt, peak position : 1.94 eV\n",
      "4 : PL_data_6.txt, peak position : 1.64 eV\n",
      "5 : PL_data_4.txt, peak position : 1.74 eV\n",
      "6 : PL_data_5.txt, peak position : 1.71 eV\n"
     ]
    }
   ],
   "source": [
    "plt.close(\"all\")\n",
    "fig, ax = plt.subplots()\n",
    "axs = []\n",
    "\n",
    "h = 6.626e-34\n",
    "c = 3e8\n",
    "eV = 1.6e-19\n",
    "\n",
    "# The signal will be averaged between lambda1 and lambda2 to calculate the background\n",
    "E1 = 1.30\n",
    "E2 = 1.35\n",
    "bg_correction = True #  for correcting the background or not\n",
    "\n",
    "# Data directory's path\n",
    "dir_path = r\"pl files\"\n",
    "# Saving directory's path\n",
    "save_loc = r\"figures\"\n",
    "#save_figs = input(\"save the plots? y/n (default is no)\")\n",
    "save_figs = \"no\"\n",
    "\n",
    "i = 1\n",
    "for filename in os.listdir(dir_path):\n",
    "    if filename.split(\".\")[0] == filename: # if it's a directory and not a file\n",
    "        continue\n",
    "    if filename[0] == \".\": # if it's a cache file\n",
    "        continue\n",
    "        \n",
    "    filepath = dir_path + r\"/\" + filename\n",
    "    wavelen, pl = np.loadtxt(filepath).T\n",
    "    E = (h*c/(wavelen*1e-9))/eV\n",
    "    E = E[::-1]\n",
    "    pl = pl[::-1]\n",
    "\n",
    "    if bg_correction == True:\n",
    "        lim1 = 1\n",
    "        while E[lim1] < E1:\n",
    "            lim1 += 1\n",
    "        lim2 = lim1\n",
    "        while E[lim2] < E2:\n",
    "            lim2 += 1\n",
    "        pl = pl - pl[lim1:lim2].sum()/(lim2-lim1)\n",
    "    pl_norm = pl/pl.max()\n",
    "    \n",
    "    #fig, ax = plt.subplots(figsize=(8,6))\n",
    "    #axs.append(ax)\n",
    "    ax.plot(E, pl_norm, label=filename.split(\".\")[0])\n",
    "    fig.tight_layout(rect=(0, 0, 0.95, 0.95))\n",
    "    ax.legend()\n",
    "    \n",
    "    if save_figs.lower() == \"yes\":\n",
    "        os.chdir(save_loc)\n",
    "        fig.savefig(filename.split(\".\")[0] + \".png\")\n",
    "        plt.close()\n",
    "        os.chdir(path_dir)\n",
    "    \n",
    "    k2 = 0\n",
    "    while pl[k2] != pl.max():\n",
    "        k2 = k2+1\n",
    "        \n",
    "    print(i, \" : \", filename, \", \", \"peak position : \", round(E[k2], 2), \" eV\", sep=\"\")\n",
    "    \n",
    "    i = i + 1\n",
    "\n",
    "plt.show()"
   ]
  },
  {
   "cell_type": "code",
   "execution_count": 54,
   "metadata": {},
   "outputs": [
    {
     "data": {
      "text/plain": [
       "1.2992034584772536"
      ]
     },
     "execution_count": 54,
     "metadata": {},
     "output_type": "execute_result"
    }
   ],
   "source": [
    "E[lim1+1]"
   ]
  },
  {
   "cell_type": "markdown",
   "metadata": {},
   "source": [
    "# Use of a cursor"
   ]
  },
  {
   "cell_type": "code",
   "execution_count": 120,
   "metadata": {},
   "outputs": [],
   "source": [
    "cursor = Cursor(plt.gca(), color=\"red\", lw=1)\n",
    "\n",
    "plt.show()"
   ]
  },
  {
   "cell_type": "code",
   "execution_count": null,
   "metadata": {},
   "outputs": [],
   "source": []
  }
 ],
 "metadata": {
  "kernelspec": {
   "display_name": "Python 3",
   "language": "python",
   "name": "python3"
  },
  "language_info": {
   "codemirror_mode": {
    "name": "ipython",
    "version": 3
   },
   "file_extension": ".py",
   "mimetype": "text/x-python",
   "name": "python",
   "nbconvert_exporter": "python",
   "pygments_lexer": "ipython3",
   "version": "3.9.4"
  }
 },
 "nbformat": 4,
 "nbformat_minor": 2
}
